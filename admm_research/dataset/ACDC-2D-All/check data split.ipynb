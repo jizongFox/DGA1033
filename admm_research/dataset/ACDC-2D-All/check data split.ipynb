{
 "cells": [
  {
   "cell_type": "code",
   "execution_count": 8,
   "metadata": {},
   "outputs": [],
   "source": [
    "import pandas as pd\n",
    "import numpy as np\n",
    "from pathlib2 import Path\n",
    "import re"
   ]
  },
  {
   "cell_type": "code",
   "execution_count": 9,
   "metadata": {},
   "outputs": [],
   "source": [
    "def get_patient_id(path:Path):\n",
    "    if isinstance(path,str):\n",
    "        path = Path(path)\n",
    "    pattern = re.compile(r'patient\\d+')\n",
    "    id = pattern.match(path.stem)[0]\n",
    "    return id\n",
    "    "
   ]
  },
  {
   "cell_type": "code",
   "execution_count": 10,
   "metadata": {},
   "outputs": [],
   "source": [
    "train_list = list(Path('train/Img').glob('**/*.png'))\n",
    "train_id =[get_patient_id(x) for x in train_list]\n",
    "train_id = sorted(list(set(train_id)))"
   ]
  },
  {
   "cell_type": "code",
   "execution_count": 11,
   "metadata": {},
   "outputs": [],
   "source": [
    "val_list = list(Path('val/Img').glob('**/*.png'))\n",
    "val_id = [get_patient_id(x) for x in val_list]\n",
    "val_id = sorted(list(set(val_id)))"
   ]
  },
  {
   "cell_type": "code",
   "execution_count": 12,
   "metadata": {},
   "outputs": [
    {
     "name": "stdout",
     "output_type": "stream",
     "text": [
      "0\n",
      "train:74, val:20\n"
     ]
    }
   ],
   "source": [
    "print(len(set(train_id)&set(val_id)))\n",
    "print(f'train:{len(train_id)}, val:{len(val_id)}')"
   ]
  },
  {
   "cell_type": "code",
   "execution_count": null,
   "metadata": {},
   "outputs": [],
   "source": []
  }
 ],
 "metadata": {
  "kernelspec": {
   "display_name": "Python 3",
   "language": "python",
   "name": "python3"
  },
  "language_info": {
   "codemirror_mode": {
    "name": "ipython",
    "version": 3
   },
   "file_extension": ".py",
   "mimetype": "text/x-python",
   "name": "python",
   "nbconvert_exporter": "python",
   "pygments_lexer": "ipython3",
   "version": "3.6.8"
  }
 },
 "nbformat": 4,
 "nbformat_minor": 2
}
