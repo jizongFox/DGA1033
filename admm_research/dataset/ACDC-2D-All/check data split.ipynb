{
 "cells": [
  {
   "cell_type": "code",
   "execution_count": 1,
   "metadata": {},
   "outputs": [],
   "source": [
    "import pandas as pd\n",
    "import numpy as np\n",
    "from pathlib2 import Path\n",
    "from PIL import Image\n",
    "import re\n",
    "import matplotlib.pyplot as plt"
   ]
  },
  {
   "cell_type": "code",
   "execution_count": 2,
   "metadata": {},
   "outputs": [],
   "source": [
    "def get_patient_id(path:Path):\n",
    "    if isinstance(path,str):\n",
    "        path = Path(path)\n",
    "    pattern = re.compile(r'patient\\d+')\n",
    "    id = pattern.match(path.stem)[0]\n",
    "    return id\n",
    "    "
   ]
  },
  {
   "cell_type": "code",
   "execution_count": 3,
   "metadata": {},
   "outputs": [
    {
     "name": "stdout",
     "output_type": "stream",
     "text": [
      "1394\n"
     ]
    }
   ],
   "source": [
    "train_list = list(Path('train/Img').glob('**/*.png'))\n",
    "gt_list = list(Path('train/GT').rglob('*.png'))\n",
    "prior_list = list (Path('train/LV_prior/').rglob('*.png'))\n",
    "assert train_list.__len__() == gt_list.__len__() ==prior_list.__len__()\n",
    "print(len(train_list))"
   ]
  },
  {
   "cell_type": "code",
   "execution_count": 4,
   "metadata": {},
   "outputs": [
    {
     "name": "stdout",
     "output_type": "stream",
     "text": [
      "train/Img/patient084_01_07.png\n",
      "train/GT/patient084_01_07.png\n",
      "train/LV_prior/patient084_01_07.png\n"
     ]
    }
   ],
   "source": [
    "print(train_list[10])\n",
    "print(gt_list[10])\n",
    "print(prior_list[10])\n",
    "\n",
    "target = 255"
   ]
  },
  {
   "cell_type": "code",
   "execution_count": 5,
   "metadata": {},
   "outputs": [],
   "source": [
    "def load_pairs(img,gt, prior):\n",
    "    img = np.array(Image.open(str(img)))\n",
    "    gt = np.array(Image.open(str(gt)))\n",
    "    gt[gt!=target]=0\n",
    "    gt[gt==target]=1\n",
    "    prior = np.array(Image.open(str(prior)))/255.0\n",
    "    return img, gt, prior\n",
    "\n",
    "def class2onehot(gt,C=2):\n",
    "    assert np.unique(gt) in np.array([0,1])\n",
    "    onehot = np.stack([np.zeros_like(gt) for i in range(C)])\n",
    "    for c in range(C):\n",
    "        onehot[c][gt==c]=1\n",
    "    return onehot\n",
    "        \n",
    "    "
   ]
  },
  {
   "cell_type": "code",
   "execution_count": 10,
   "metadata": {},
   "outputs": [
    {
     "name": "stdout",
     "output_type": "stream",
     "text": [
      "(array([136, 136, 137, 137, 138, 138, 139]), array([109, 110, 109, 110, 109, 110, 110]))\n",
      "(array([136, 136, 136, 137, 137, 137, 138, 138, 139, 139]), array([108, 109, 110, 108, 109, 110, 109, 110, 109, 110]))\n"
     ]
    },
    {
     "data": {
      "image/png": "[encoded data removed]",
      "text/plain": [
       "<Figure size 432x288 with 2 Axes>"
      ]
     },
     "metadata": {
      "needs_background": "light"
     },
     "output_type": "display_data"
    },
    {
     "name": "stdout",
     "output_type": "stream",
     "text": [
      "(array([130, 130, 130, 131, 131, 131, 131, 131, 131, 131, 131, 131, 131,\n",
      "       132, 132, 132, 132, 132, 132, 132, 132, 132, 132, 132, 133, 133,\n",
      "       133, 133, 133, 133, 133, 133, 133, 133, 133, 133, 133, 134, 134,\n",
      "       134, 134, 134, 134, 134, 134, 134, 134, 134, 134, 134, 135, 135,\n",
      "       135, 135, 135, 135, 135, 135, 135, 135, 135, 135, 135, 135, 136,\n",
      "       136, 136, 136, 136, 136, 136, 136, 136, 136, 136, 136, 136, 136,\n",
      "       137, 137, 137, 137, 137, 137, 137, 137, 137, 137, 137, 137, 137,\n",
      "       138, 138, 138, 138, 138, 138, 138, 138, 138, 138, 138, 138, 139,\n",
      "       139, 139, 139, 139, 139, 139, 139, 139, 139, 140, 140, 140, 140,\n",
      "       140, 140, 140, 140, 141, 141, 141, 141, 141]), array([130, 131, 132, 126, 127, 128, 129, 130, 131, 132, 133, 134, 135,\n",
      "       125, 126, 127, 128, 129, 130, 131, 132, 133, 134, 135, 124, 125,\n",
      "       126, 127, 128, 129, 130, 131, 132, 133, 134, 135, 136, 123, 124,\n",
      "       125, 126, 127, 128, 129, 130, 131, 132, 133, 134, 135, 122, 123,\n",
      "       124, 125, 126, 127, 128, 129, 130, 131, 132, 133, 134, 135, 122,\n",
      "       123, 124, 125, 126, 127, 128, 129, 130, 131, 132, 133, 134, 135,\n",
      "       123, 124, 125, 126, 127, 128, 129, 130, 131, 132, 133, 134, 135,\n",
      "       124, 125, 126, 127, 128, 129, 130, 131, 132, 133, 134, 135, 125,\n",
      "       126, 127, 128, 129, 130, 131, 132, 133, 134, 126, 127, 128, 129,\n",
      "       130, 131, 132, 133, 127, 128, 129, 130, 131]))\n",
      "(array([130, 130, 130, 131, 131, 131, 131, 131, 131, 131, 131, 131, 131,\n",
      "       132, 132, 132, 132, 132, 132, 132, 132, 132, 132, 132, 133, 133,\n",
      "       133, 133, 133, 133, 133, 133, 133, 133, 133, 133, 133, 134, 134,\n",
      "       134, 134, 134, 134, 134, 134, 134, 134, 134, 134, 134, 135, 135,\n",
      "       135, 135, 135, 135, 135, 135, 135, 135, 135, 135, 135, 135, 136,\n",
      "       136, 136, 136, 136, 136, 136, 136, 136, 136, 136, 136, 136, 136,\n",
      "       137, 137, 137, 137, 137, 137, 137, 137, 137, 137, 137, 137, 137,\n",
      "       137, 138, 138, 138, 138, 138, 138, 138, 138, 138, 138, 138, 138,\n",
      "       139, 139, 139, 139, 139, 139, 139, 139, 139, 139, 140, 140, 140,\n",
      "       140, 140, 140, 140, 140, 141, 141, 141, 141, 141]), array([130, 131, 132, 126, 127, 128, 129, 130, 131, 132, 133, 134, 135,\n",
      "       125, 126, 127, 128, 129, 130, 131, 132, 133, 134, 135, 124, 125,\n",
      "       126, 127, 128, 129, 130, 131, 132, 133, 134, 135, 136, 123, 124,\n",
      "       125, 126, 127, 128, 129, 130, 131, 132, 133, 134, 135, 122, 123,\n",
      "       124, 125, 126, 127, 128, 129, 130, 131, 132, 133, 134, 135, 122,\n",
      "       123, 124, 125, 126, 127, 128, 129, 130, 131, 132, 133, 134, 135,\n",
      "       122, 123, 124, 125, 126, 127, 128, 129, 130, 131, 132, 133, 134,\n",
      "       135, 124, 125, 126, 127, 128, 129, 130, 131, 132, 133, 134, 135,\n",
      "       125, 126, 127, 128, 129, 130, 131, 132, 133, 134, 126, 127, 128,\n",
      "       129, 130, 131, 132, 133, 127, 128, 129, 130, 131]))\n"
     ]
    },
    {
     "data": {
      "image/png": "[encoded data removed]",
      "text/plain": [
       "<Figure size 432x288 with 2 Axes>"
      ]
     },
     "metadata": {
      "needs_background": "light"
     },
     "output_type": "display_data"
    },
    {
     "name": "stdout",
     "output_type": "stream",
     "text": [
      "(array([118, 118, 118, 118, 118, 118, 119, 119, 119, 119, 119, 119, 119,\n",
      "       119, 119, 119, 119, 120, 120, 120, 120, 120, 120, 120, 120, 120,\n",
      "       120, 120, 120, 120, 120, 121, 121, 121, 121, 121, 121, 121, 121,\n",
      "       121, 121, 121, 121, 121, 121, 121, 122, 122, 122, 122, 122, 122,\n",
      "       122, 122, 122, 122, 122, 122, 122, 122, 122, 122, 122, 123, 123,\n",
      "       123, 123, 123, 123, 123, 123, 123, 123, 123, 123, 123, 123, 123,\n",
      "       123, 123, 124, 124, 124, 124, 124, 124, 124, 124, 124, 124, 124,\n",
      "       124, 124, 124, 124, 124, 124, 125, 125, 125, 125, 125, 125, 125,\n",
      "       125, 125, 125, 125, 125, 125, 125, 125, 125, 125, 125, 126, 126,\n",
      "       126, 126, 126, 126, 126, 126, 126, 126, 126, 126, 126, 126, 126,\n",
      "       126, 126, 127, 127, 127, 127, 127, 127, 127, 127, 127, 127, 127,\n",
      "       127, 127, 127, 127, 127, 127, 128, 128, 128, 128, 128, 128, 128,\n",
      "       128, 128, 128, 128, 128, 128, 128, 128, 128, 129, 129, 129, 129,\n",
      "       129, 129, 129, 129, 129, 129, 129, 129, 129, 129, 129, 129, 130,\n",
      "       130, 130, 130, 130, 130, 130, 130, 130, 130, 130, 130, 130, 130,\n",
      "       130, 131, 131, 131, 131, 131, 131, 131, 131, 131, 131, 131, 131,\n",
      "       131, 131, 132, 132, 132, 132, 132, 132, 132, 132, 132, 132, 132,\n",
      "       133, 133, 133, 133, 133, 133, 133, 133]), array([126, 127, 128, 129, 130, 131, 124, 125, 126, 127, 128, 129, 130,\n",
      "       131, 132, 133, 134, 122, 123, 124, 125, 126, 127, 128, 129, 130,\n",
      "       131, 132, 133, 134, 135, 121, 122, 123, 124, 125, 126, 127, 128,\n",
      "       129, 130, 131, 132, 133, 134, 135, 120, 121, 122, 123, 124, 125,\n",
      "       126, 127, 128, 129, 130, 131, 132, 133, 134, 135, 136, 120, 121,\n",
      "       122, 123, 124, 125, 126, 127, 128, 129, 130, 131, 132, 133, 134,\n",
      "       135, 136, 120, 121, 122, 123, 124, 125, 126, 127, 128, 129, 130,\n",
      "       131, 132, 133, 134, 135, 136, 119, 120, 121, 122, 123, 124, 125,\n",
      "       126, 127, 128, 129, 130, 131, 132, 133, 134, 135, 136, 119, 120,\n",
      "       121, 122, 123, 124, 125, 126, 127, 128, 129, 130, 131, 132, 133,\n",
      "       134, 135, 119, 120, 121, 122, 123, 124, 125, 126, 127, 128, 129,\n",
      "       130, 131, 132, 133, 134, 135, 119, 120, 121, 122, 123, 124, 125,\n",
      "       126, 127, 128, 129, 130, 131, 132, 133, 134, 119, 120, 121, 122,\n",
      "       123, 124, 125, 126, 127, 128, 129, 130, 131, 132, 133, 134, 119,\n",
      "       120, 121, 122, 123, 124, 125, 126, 127, 128, 129, 130, 131, 132,\n",
      "       133, 119, 120, 121, 122, 123, 124, 125, 126, 127, 128, 129, 130,\n",
      "       131, 132, 120, 121, 122, 123, 124, 125, 126, 127, 128, 129, 130,\n",
      "       121, 122, 123, 124, 125, 126, 127, 128]))\n",
      "(array([117, 117, 117, 117, 117, 117, 118, 118, 118, 118, 118, 118, 118,\n",
      "       118, 118, 118, 118, 119, 119, 119, 119, 119, 119, 119, 119, 119,\n",
      "       119, 119, 119, 119, 119, 120, 120, 120, 120, 120, 120, 120, 120,\n",
      "       120, 120, 120, 120, 120, 120, 120, 120, 121, 121, 121, 121, 121,\n",
      "       121, 121, 121, 121, 121, 121, 121, 121, 121, 121, 121, 121, 122,\n",
      "       122, 122, 122, 122, 122, 122, 122, 122, 122, 122, 122, 122, 122,\n",
      "       122, 122, 122, 122, 123, 123, 123, 123, 123, 123, 123, 123, 123,\n",
      "       123, 123, 123, 123, 123, 123, 123, 123, 123, 124, 124, 124, 124,\n",
      "       124, 124, 124, 124, 124, 124, 124, 124, 124, 124, 124, 124, 124,\n",
      "       124, 124, 125, 125, 125, 125, 125, 125, 125, 125, 125, 125, 125,\n",
      "       125, 125, 125, 125, 125, 125, 125, 125, 126, 126, 126, 126, 126,\n",
      "       126, 126, 126, 126, 126, 126, 126, 126, 126, 126, 126, 126, 126,\n",
      "       127, 127, 127, 127, 127, 127, 127, 127, 127, 127, 127, 127, 127,\n",
      "       127, 127, 127, 127, 127, 128, 128, 128, 128, 128, 128, 128, 128,\n",
      "       128, 128, 128, 128, 128, 128, 128, 128, 128, 129, 129, 129, 129,\n",
      "       129, 129, 129, 129, 129, 129, 129, 129, 129, 129, 129, 129, 129,\n",
      "       130, 130, 130, 130, 130, 130, 130, 130, 130, 130, 130, 130, 130,\n",
      "       130, 130, 130, 131, 131, 131, 131, 131, 131, 131, 131, 131, 131,\n",
      "       131, 131, 131, 131, 132, 132, 132, 132, 132, 132, 132, 132, 132,\n",
      "       132, 132, 133, 133, 133, 133, 133, 133, 133, 133]), array([125, 126, 127, 128, 129, 130, 123, 124, 125, 126, 127, 128, 129,\n",
      "       130, 131, 132, 133, 121, 122, 123, 124, 125, 126, 127, 128, 129,\n",
      "       130, 131, 132, 133, 134, 120, 121, 122, 123, 124, 125, 126, 127,\n",
      "       128, 129, 130, 131, 132, 133, 134, 135, 119, 120, 121, 122, 123,\n",
      "       124, 125, 126, 127, 128, 129, 130, 131, 132, 133, 134, 135, 119,\n",
      "       120, 121, 122, 123, 124, 125, 126, 127, 128, 129, 130, 131, 132,\n",
      "       133, 134, 135, 136, 119, 120, 121, 122, 123, 124, 125, 126, 127,\n",
      "       128, 129, 130, 131, 132, 133, 134, 135, 136, 118, 119, 120, 121,\n",
      "       122, 123, 124, 125, 126, 127, 128, 129, 130, 131, 132, 133, 134,\n",
      "       135, 136, 118, 119, 120, 121, 122, 123, 124, 125, 126, 127, 128,\n",
      "       129, 130, 131, 132, 133, 134, 135, 136, 118, 119, 120, 121, 122,\n",
      "       123, 124, 125, 126, 127, 128, 129, 130, 131, 132, 133, 134, 135,\n",
      "       118, 119, 120, 121, 122, 123, 124, 125, 126, 127, 128, 129, 130,\n",
      "       131, 132, 133, 134, 135, 118, 119, 120, 121, 122, 123, 124, 125,\n",
      "       126, 127, 128, 129, 130, 131, 132, 133, 134, 118, 119, 120, 121,\n",
      "       122, 123, 124, 125, 126, 127, 128, 129, 130, 131, 132, 133, 134,\n",
      "       118, 119, 120, 121, 122, 123, 124, 125, 126, 127, 128, 129, 130,\n",
      "       131, 132, 133, 119, 120, 121, 122, 123, 124, 125, 126, 127, 128,\n",
      "       129, 130, 131, 132, 120, 121, 122, 123, 124, 125, 126, 127, 128,\n",
      "       129, 130, 121, 122, 123, 124, 125, 126, 127, 128]))\n"
     ]
    },
    {
     "data": {
      "image/png": "[encoded data removed]",
      "text/plain": [
       "<Figure size 432x288 with 2 Axes>"
      ]
     },
     "metadata": {
      "needs_background": "light"
     },
     "output_type": "display_data"
    },
    {
     "name": "stdout",
     "output_type": "stream",
     "text": [
      "(array([126, 126, 127, 127, 127, 128, 128, 129, 129]), array([124, 125, 124, 125, 126, 125, 126, 125, 126]))\n",
      "(array([126, 126, 126, 127, 127, 127, 128, 128, 129, 129]), array([124, 125, 126, 124, 125, 126, 125, 126, 125, 126]))\n"
     ]
    },
    {
     "data": {
      "image/png": "[encoded data removed]",
      "text/plain": [
       "<Figure size 432x288 with 2 Axes>"
      ]
     },
     "metadata": {
      "needs_background": "light"
     },
     "output_type": "display_data"
    },
    {
     "name": "stdout",
     "output_type": "stream",
     "text": [
      "(array([119, 119, 119, 119, 119, 119, 119, 120, 120, 120, 120, 120, 120,\n",
      "       120, 120, 120, 121, 121, 121, 121, 121, 121, 121, 121, 121, 121,\n",
      "       121, 122, 122, 122, 122, 122, 122, 122, 122, 122, 122, 122, 122,\n",
      "       123, 123, 123, 123, 123, 123, 123, 123, 123, 123, 123, 123, 123,\n",
      "       124, 124, 124, 124, 124, 124, 124, 124, 124, 124, 124, 124, 124,\n",
      "       125, 125, 125, 125, 125, 125, 125, 125, 125, 125, 125, 125, 125,\n",
      "       125, 126, 126, 126, 126, 126, 126, 126, 126, 126, 126, 126, 126,\n",
      "       126, 126, 126, 127, 127, 127, 127, 127, 127, 127, 127, 127, 127,\n",
      "       127, 127, 127, 127, 127, 127, 128, 128, 128, 128, 128, 128, 128,\n",
      "       128, 128, 128, 128, 128, 128, 128, 128, 128, 128, 129, 129, 129,\n",
      "       129, 129, 129, 129, 129, 129, 129, 129, 129, 129, 129, 129, 129,\n",
      "       129, 130, 130, 130, 130, 130, 130, 130, 130, 130, 130, 130, 130,\n",
      "       130, 130, 130, 130, 130, 131, 131, 131, 131, 131, 131, 131, 131,\n",
      "       131, 131, 131, 131, 131, 131, 131, 131, 131, 132, 132, 132, 132,\n",
      "       132, 132, 132, 132, 132, 132, 132, 132, 132, 132, 132, 132, 133,\n",
      "       133, 133, 133, 133, 133, 133, 133, 133, 133, 133, 133, 133, 133,\n",
      "       133, 134, 134, 134, 134, 134, 134, 134, 134, 134, 134, 134, 134,\n",
      "       134, 135, 135, 135, 135, 135, 135, 135, 135, 135, 135]), array([123, 124, 125, 126, 127, 128, 129, 122, 123, 124, 125, 126, 127,\n",
      "       128, 129, 130, 121, 122, 123, 124, 125, 126, 127, 128, 129, 130,\n",
      "       131, 120, 121, 122, 123, 124, 125, 126, 127, 128, 129, 130, 131,\n",
      "       120, 121, 122, 123, 124, 125, 126, 127, 128, 129, 130, 131, 132,\n",
      "       120, 121, 122, 123, 124, 125, 126, 127, 128, 129, 130, 131, 132,\n",
      "       120, 121, 122, 123, 124, 125, 126, 127, 128, 129, 130, 131, 132,\n",
      "       133, 119, 120, 121, 122, 123, 124, 125, 126, 127, 128, 129, 130,\n",
      "       131, 132, 133, 119, 120, 121, 122, 123, 124, 125, 126, 127, 128,\n",
      "       129, 130, 131, 132, 133, 134, 118, 119, 120, 121, 122, 123, 124,\n",
      "       125, 126, 127, 128, 129, 130, 131, 132, 133, 134, 118, 119, 120,\n",
      "       121, 122, 123, 124, 125, 126, 127, 128, 129, 130, 131, 132, 133,\n",
      "       134, 118, 119, 120, 121, 122, 123, 124, 125, 126, 127, 128, 129,\n",
      "       130, 131, 132, 133, 134, 118, 119, 120, 121, 122, 123, 124, 125,\n",
      "       126, 127, 128, 129, 130, 131, 132, 133, 134, 119, 120, 121, 122,\n",
      "       123, 124, 125, 126, 127, 128, 129, 130, 131, 132, 133, 134, 120,\n",
      "       121, 122, 123, 124, 125, 126, 127, 128, 129, 130, 131, 132, 133,\n",
      "       134, 121, 122, 123, 124, 125, 126, 127, 128, 129, 130, 131, 132,\n",
      "       133, 123, 124, 125, 126, 127, 128, 129, 130, 131, 132]))\n",
      "(array([119, 119, 119, 119, 119, 119, 119, 120, 120, 120, 120, 120, 120,\n",
      "       120, 120, 120, 120, 121, 121, 121, 121, 121, 121, 121, 121, 121,\n",
      "       121, 121, 121, 121, 122, 122, 122, 122, 122, 122, 122, 122, 122,\n",
      "       122, 122, 122, 122, 123, 123, 123, 123, 123, 123, 123, 123, 123,\n",
      "       123, 123, 123, 123, 123, 124, 124, 124, 124, 124, 124, 124, 124,\n",
      "       124, 124, 124, 124, 124, 124, 125, 125, 125, 125, 125, 125, 125,\n",
      "       125, 125, 125, 125, 125, 125, 125, 125, 125, 126, 126, 126, 126,\n",
      "       126, 126, 126, 126, 126, 126, 126, 126, 126, 126, 126, 126, 127,\n",
      "       127, 127, 127, 127, 127, 127, 127, 127, 127, 127, 127, 127, 127,\n",
      "       127, 127, 127, 127, 128, 128, 128, 128, 128, 128, 128, 128, 128,\n",
      "       128, 128, 128, 128, 128, 128, 128, 128, 128, 129, 129, 129, 129,\n",
      "       129, 129, 129, 129, 129, 129, 129, 129, 129, 129, 129, 129, 129,\n",
      "       129, 130, 130, 130, 130, 130, 130, 130, 130, 130, 130, 130, 130,\n",
      "       130, 130, 130, 130, 130, 131, 131, 131, 131, 131, 131, 131, 131,\n",
      "       131, 131, 131, 131, 131, 131, 131, 131, 131, 132, 132, 132, 132,\n",
      "       132, 132, 132, 132, 132, 132, 132, 132, 132, 132, 132, 132, 133,\n",
      "       133, 133, 133, 133, 133, 133, 133, 133, 133, 133, 133, 133, 133,\n",
      "       133, 134, 134, 134, 134, 134, 134, 134, 134, 134, 134, 134, 134,\n",
      "       134, 135, 135, 135, 135, 135, 135, 135, 135, 135, 135]), array([123, 124, 125, 126, 127, 128, 129, 121, 122, 123, 124, 125, 126,\n",
      "       127, 128, 129, 130, 119, 120, 121, 122, 123, 124, 125, 126, 127,\n",
      "       128, 129, 130, 131, 119, 120, 121, 122, 123, 124, 125, 126, 127,\n",
      "       128, 129, 130, 131, 119, 120, 121, 122, 123, 124, 125, 126, 127,\n",
      "       128, 129, 130, 131, 132, 119, 120, 121, 122, 123, 124, 125, 126,\n",
      "       127, 128, 129, 130, 131, 132, 118, 119, 120, 121, 122, 123, 124,\n",
      "       125, 126, 127, 128, 129, 130, 131, 132, 133, 118, 119, 120, 121,\n",
      "       122, 123, 124, 125, 126, 127, 128, 129, 130, 131, 132, 133, 117,\n",
      "       118, 119, 120, 121, 122, 123, 124, 125, 126, 127, 128, 129, 130,\n",
      "       131, 132, 133, 134, 117, 118, 119, 120, 121, 122, 123, 124, 125,\n",
      "       126, 127, 128, 129, 130, 131, 132, 133, 134, 117, 118, 119, 120,\n",
      "       121, 122, 123, 124, 125, 126, 127, 128, 129, 130, 131, 132, 133,\n",
      "       134, 118, 119, 120, 121, 122, 123, 124, 125, 126, 127, 128, 129,\n",
      "       130, 131, 132, 133, 134, 118, 119, 120, 121, 122, 123, 124, 125,\n",
      "       126, 127, 128, 129, 130, 131, 132, 133, 134, 119, 120, 121, 122,\n",
      "       123, 124, 125, 126, 127, 128, 129, 130, 131, 132, 133, 134, 120,\n",
      "       121, 122, 123, 124, 125, 126, 127, 128, 129, 130, 131, 132, 133,\n",
      "       134, 121, 122, 123, 124, 125, 126, 127, 128, 129, 130, 131, 132,\n",
      "       133, 123, 124, 125, 126, 127, 128, 129, 130, 131, 132]))\n"
     ]
    },
    {
     "data": {
      "image/png": "[encoded data removed]",
      "text/plain": [
       "<Figure size 432x288 with 2 Axes>"
      ]
     },
     "metadata": {
      "needs_background": "light"
     },
     "output_type": "display_data"
    },
    {
     "name": "stdout",
     "output_type": "stream",
     "text": [
      "(array([131, 131, 132, 132, 132, 133, 133, 133, 133, 134, 134, 134, 135,\n",
      "       135, 135, 136, 136, 136, 137]), array([131, 132, 130, 131, 132, 130, 131, 132, 133, 131, 132, 133, 131,\n",
      "       132, 133, 131, 132, 133, 133]))\n",
      "(array([130, 131, 131, 131, 132, 132, 132, 133, 133, 133, 133, 134, 134,\n",
      "       134, 135, 135, 135, 136, 136, 136, 137]), array([131, 130, 131, 132, 130, 131, 132, 130, 131, 132, 133, 131, 132,\n",
      "       133, 131, 132, 133, 131, 132, 133, 133]))\n"
     ]
    },
    {
     "data": {
      "image/png": "[encoded data removed]",
      "text/plain": [
       "<Figure size 432x288 with 2 Axes>"
      ]
     },
     "metadata": {
      "needs_background": "light"
     },
     "output_type": "display_data"
    },
    {
     "name": "stdout",
     "output_type": "stream",
     "text": [
      "(array([131, 131, 131, 131, 132, 132, 132, 132, 132, 132, 133, 133, 133,\n",
      "       133, 133, 134, 134, 134, 134, 134, 135, 135, 135, 135, 135, 136,\n",
      "       136, 136, 136, 136, 137, 137, 137]), array([130, 131, 132, 133, 128, 129, 130, 131, 132, 133, 129, 130, 131,\n",
      "       132, 133, 129, 130, 131, 132, 133, 129, 130, 131, 132, 133, 129,\n",
      "       130, 131, 132, 133, 130, 131, 132]))\n",
      "(array([130, 130, 130, 130, 131, 131, 131, 131, 131, 131, 132, 132, 132,\n",
      "       132, 132, 132, 133, 133, 133, 133, 133, 134, 134, 134, 134, 134,\n",
      "       135, 135, 135, 135, 135, 136, 136, 136, 136, 136, 137, 137, 137]), array([129, 130, 131, 132, 128, 129, 130, 131, 132, 133, 128, 129, 130,\n",
      "       131, 132, 133, 129, 130, 131, 132, 133, 129, 130, 131, 132, 133,\n",
      "       129, 130, 131, 132, 133, 129, 130, 131, 132, 133, 130, 131, 132]))\n"
     ]
    },
    {
     "data": {
      "image/png": "[encoded data removed]",
      "text/plain": [
       "<Figure size 432x288 with 2 Axes>"
      ]
     },
     "metadata": {
      "needs_background": "light"
     },
     "output_type": "display_data"
    },
    {
     "name": "stdout",
     "output_type": "stream",
     "text": [
      "(array([131, 132, 132, 133, 133, 134, 134]), array([131, 130, 131, 130, 131, 130, 131]))\n",
      "(array([131, 131, 131, 132, 132, 132, 133, 133, 134, 134]), array([129, 130, 131, 129, 130, 131, 130, 131, 130, 131]))\n"
     ]
    },
    {
     "data": {
      "image/png": "[encoded data removed]",
      "text/plain": [
       "<Figure size 432x288 with 2 Axes>"
      ]
     },
     "metadata": {
      "needs_background": "light"
     },
     "output_type": "display_data"
    },
    {
     "name": "stdout",
     "output_type": "stream",
     "text": [
      "(array([120, 120, 120, 120, 120, 120, 120, 120, 120, 120, 120, 120, 121,\n",
      "       121, 121, 121, 121, 121, 121, 121, 121, 121, 121, 121, 121, 121,\n",
      "       122, 122, 122, 122, 122, 122, 122, 122, 122, 122, 122, 122, 122,\n",
      "       122, 122, 123, 123, 123, 123, 123, 123, 123, 123, 123, 123, 123,\n",
      "       123, 123, 123, 123, 123, 123, 124, 124, 124, 124, 124, 124, 124,\n",
      "       124, 124, 124, 124, 124, 124, 124, 124, 124, 124, 124, 125, 125,\n",
      "       125, 125, 125, 125, 125, 125, 125, 125, 125, 125, 125, 125, 125,\n",
      "       125, 125, 125, 126, 126, 126, 126, 126, 126, 126, 126, 126, 126,\n",
      "       126, 126, 126, 126, 126, 126, 126, 126, 126, 127, 127, 127, 127,\n",
      "       127, 127, 127, 127, 127, 127, 127, 127, 127, 127, 127, 127, 127,\n",
      "       127, 127, 128, 128, 128, 128, 128, 128, 128, 128, 128, 128, 128,\n",
      "       128, 128, 128, 128, 128, 128, 128, 128, 129, 129, 129, 129, 129,\n",
      "       129, 129, 129, 129, 129, 129, 129, 129, 129, 129, 129, 129, 129,\n",
      "       130, 130, 130, 130, 130, 130, 130, 130, 130, 130, 130, 130, 130,\n",
      "       130, 130, 130, 130, 130, 131, 131, 131, 131, 131, 131, 131, 131,\n",
      "       131, 131, 131, 131, 131, 131, 131, 132, 132, 132, 132, 132, 132,\n",
      "       132, 132, 132, 132, 132, 132, 132, 133, 133, 133, 133, 133, 133,\n",
      "       133, 133, 133]), array([119, 120, 121, 122, 123, 124, 125, 126, 127, 128, 129, 130, 118,\n",
      "       119, 120, 121, 122, 123, 124, 125, 126, 127, 128, 129, 130, 131,\n",
      "       117, 118, 119, 120, 121, 122, 123, 124, 125, 126, 127, 128, 129,\n",
      "       130, 131, 116, 117, 118, 119, 120, 121, 122, 123, 124, 125, 126,\n",
      "       127, 128, 129, 130, 131, 132, 115, 116, 117, 118, 119, 120, 121,\n",
      "       122, 123, 124, 125, 126, 127, 128, 129, 130, 131, 132, 115, 116,\n",
      "       117, 118, 119, 120, 121, 122, 123, 124, 125, 126, 127, 128, 129,\n",
      "       130, 131, 132, 115, 116, 117, 118, 119, 120, 121, 122, 123, 124,\n",
      "       125, 126, 127, 128, 129, 130, 131, 132, 133, 115, 116, 117, 118,\n",
      "       119, 120, 121, 122, 123, 124, 125, 126, 127, 128, 129, 130, 131,\n",
      "       132, 133, 115, 116, 117, 118, 119, 120, 121, 122, 123, 124, 125,\n",
      "       126, 127, 128, 129, 130, 131, 132, 133, 115, 116, 117, 118, 119,\n",
      "       120, 121, 122, 123, 124, 125, 126, 127, 128, 129, 130, 131, 132,\n",
      "       115, 116, 117, 118, 119, 120, 121, 122, 123, 124, 125, 126, 127,\n",
      "       128, 129, 130, 131, 132, 116, 117, 118, 119, 120, 121, 122, 123,\n",
      "       124, 125, 126, 127, 128, 129, 130, 117, 118, 119, 120, 121, 122,\n",
      "       123, 124, 125, 126, 127, 128, 129, 119, 120, 121, 122, 123, 124,\n",
      "       125, 126, 127]))\n",
      "(array([119, 119, 119, 119, 119, 119, 119, 119, 119, 119, 119, 119, 120,\n",
      "       120, 120, 120, 120, 120, 120, 120, 120, 120, 120, 120, 120, 120,\n",
      "       121, 121, 121, 121, 121, 121, 121, 121, 121, 121, 121, 121, 121,\n",
      "       121, 121, 121, 122, 122, 122, 122, 122, 122, 122, 122, 122, 122,\n",
      "       122, 122, 122, 122, 122, 122, 122, 123, 123, 123, 123, 123, 123,\n",
      "       123, 123, 123, 123, 123, 123, 123, 123, 123, 123, 123, 123, 123,\n",
      "       124, 124, 124, 124, 124, 124, 124, 124, 124, 124, 124, 124, 124,\n",
      "       124, 124, 124, 124, 124, 124, 125, 125, 125, 125, 125, 125, 125,\n",
      "       125, 125, 125, 125, 125, 125, 125, 125, 125, 125, 125, 125, 126,\n",
      "       126, 126, 126, 126, 126, 126, 126, 126, 126, 126, 126, 126, 126,\n",
      "       126, 126, 126, 126, 126, 126, 127, 127, 127, 127, 127, 127, 127,\n",
      "       127, 127, 127, 127, 127, 127, 127, 127, 127, 127, 127, 127, 127,\n",
      "       128, 128, 128, 128, 128, 128, 128, 128, 128, 128, 128, 128, 128,\n",
      "       128, 128, 128, 128, 128, 128, 128, 129, 129, 129, 129, 129, 129,\n",
      "       129, 129, 129, 129, 129, 129, 129, 129, 129, 129, 129, 129, 130,\n",
      "       130, 130, 130, 130, 130, 130, 130, 130, 130, 130, 130, 130, 130,\n",
      "       130, 130, 130, 130, 131, 131, 131, 131, 131, 131, 131, 131, 131,\n",
      "       131, 131, 131, 131, 131, 131, 132, 132, 132, 132, 132, 132, 132,\n",
      "       132, 132, 132, 132, 132, 132, 133, 133, 133, 133, 133, 133, 133,\n",
      "       133, 133]), array([118, 119, 120, 121, 122, 123, 124, 125, 126, 127, 128, 129, 117,\n",
      "       118, 119, 120, 121, 122, 123, 124, 125, 126, 127, 128, 129, 130,\n",
      "       116, 117, 118, 119, 120, 121, 122, 123, 124, 125, 126, 127, 128,\n",
      "       129, 130, 131, 115, 116, 117, 118, 119, 120, 121, 122, 123, 124,\n",
      "       125, 126, 127, 128, 129, 130, 131, 114, 115, 116, 117, 118, 119,\n",
      "       120, 121, 122, 123, 124, 125, 126, 127, 128, 129, 130, 131, 132,\n",
      "       114, 115, 116, 117, 118, 119, 120, 121, 122, 123, 124, 125, 126,\n",
      "       127, 128, 129, 130, 131, 132, 114, 115, 116, 117, 118, 119, 120,\n",
      "       121, 122, 123, 124, 125, 126, 127, 128, 129, 130, 131, 132, 114,\n",
      "       115, 116, 117, 118, 119, 120, 121, 122, 123, 124, 125, 126, 127,\n",
      "       128, 129, 130, 131, 132, 133, 114, 115, 116, 117, 118, 119, 120,\n",
      "       121, 122, 123, 124, 125, 126, 127, 128, 129, 130, 131, 132, 133,\n",
      "       114, 115, 116, 117, 118, 119, 120, 121, 122, 123, 124, 125, 126,\n",
      "       127, 128, 129, 130, 131, 132, 133, 115, 116, 117, 118, 119, 120,\n",
      "       121, 122, 123, 124, 125, 126, 127, 128, 129, 130, 131, 132, 115,\n",
      "       116, 117, 118, 119, 120, 121, 122, 123, 124, 125, 126, 127, 128,\n",
      "       129, 130, 131, 132, 116, 117, 118, 119, 120, 121, 122, 123, 124,\n",
      "       125, 126, 127, 128, 129, 130, 117, 118, 119, 120, 121, 122, 123,\n",
      "       124, 125, 126, 127, 128, 129, 119, 120, 121, 122, 123, 124, 125,\n",
      "       126, 127]))\n"
     ]
    },
    {
     "data": {
      "image/png": "[encoded data removed]",
      "text/plain": [
       "<Figure size 432x288 with 2 Axes>"
      ]
     },
     "metadata": {
      "needs_background": "light"
     },
     "output_type": "display_data"
    },
    {
     "name": "stdout",
     "output_type": "stream",
     "text": [
      "(array([126, 126, 126, 126, 126, 126, 126, 126, 126, 126, 127, 127, 127,\n",
      "       127, 127, 127, 127, 127, 127, 127, 127, 127, 127, 128, 128, 128,\n",
      "       128, 128, 128, 128, 128, 128, 128, 128, 128, 128, 128, 128, 129,\n",
      "       129, 129, 129, 129, 129, 129, 129, 129, 129, 129, 129, 129, 129,\n",
      "       129, 129, 130, 130, 130, 130, 130, 130, 130, 130, 130, 130, 130,\n",
      "       130, 130, 130, 130, 130, 130, 130, 131, 131, 131, 131, 131, 131,\n",
      "       131, 131, 131, 131, 131, 131, 131, 131, 131, 131, 131, 131, 131,\n",
      "       132, 132, 132, 132, 132, 132, 132, 132, 132, 132, 132, 132, 132,\n",
      "       132, 132, 132, 132, 132, 132, 133, 133, 133, 133, 133, 133, 133,\n",
      "       133, 133, 133, 133, 133, 133, 133, 133, 133, 133, 133, 133, 133,\n",
      "       134, 134, 134, 134, 134, 134, 134, 134, 134, 134, 134, 134, 134,\n",
      "       134, 134, 134, 134, 134, 134, 134, 135, 135, 135, 135, 135, 135,\n",
      "       135, 135, 135, 135, 135, 135, 135, 135, 135, 135, 135, 135, 135,\n",
      "       135, 136, 136, 136, 136, 136, 136, 136, 136, 136, 136, 136, 136,\n",
      "       136, 136, 136, 136, 136, 136, 137, 137, 137, 137, 137, 137, 137,\n",
      "       137, 137, 137, 137, 137, 137, 137, 137, 137, 137, 137, 138, 138,\n",
      "       138, 138, 138, 138, 138, 138, 138, 138, 138, 138, 138, 138, 138,\n",
      "       139, 139, 139, 139, 139, 139, 139, 139, 139, 139, 139, 139, 139,\n",
      "       140, 140, 140, 140, 140, 140, 140, 140, 140]), array([124, 125, 126, 127, 128, 129, 130, 131, 132, 133, 122, 123, 124,\n",
      "       125, 126, 127, 128, 129, 130, 131, 132, 133, 134, 121, 122, 123,\n",
      "       124, 125, 126, 127, 128, 129, 130, 131, 132, 133, 134, 135, 120,\n",
      "       121, 122, 123, 124, 125, 126, 127, 128, 129, 130, 131, 132, 133,\n",
      "       134, 135, 119, 120, 121, 122, 123, 124, 125, 126, 127, 128, 129,\n",
      "       130, 131, 132, 133, 134, 135, 136, 118, 119, 120, 121, 122, 123,\n",
      "       124, 125, 126, 127, 128, 129, 130, 131, 132, 133, 134, 135, 136,\n",
      "       118, 119, 120, 121, 122, 123, 124, 125, 126, 127, 128, 129, 130,\n",
      "       131, 132, 133, 134, 135, 136, 118, 119, 120, 121, 122, 123, 124,\n",
      "       125, 126, 127, 128, 129, 130, 131, 132, 133, 134, 135, 136, 137,\n",
      "       118, 119, 120, 121, 122, 123, 124, 125, 126, 127, 128, 129, 130,\n",
      "       131, 132, 133, 134, 135, 136, 137, 118, 119, 120, 121, 122, 123,\n",
      "       124, 125, 126, 127, 128, 129, 130, 131, 132, 133, 134, 135, 136,\n",
      "       137, 119, 120, 121, 122, 123, 124, 125, 126, 127, 128, 129, 130,\n",
      "       131, 132, 133, 134, 135, 136, 119, 120, 121, 122, 123, 124, 125,\n",
      "       126, 127, 128, 129, 130, 131, 132, 133, 134, 135, 136, 120, 121,\n",
      "       122, 123, 124, 125, 126, 127, 128, 129, 130, 131, 132, 133, 134,\n",
      "       121, 122, 123, 124, 125, 126, 127, 128, 129, 130, 131, 132, 133,\n",
      "       123, 124, 125, 126, 127, 128, 129, 130, 131]))\n",
      "(array([126, 126, 126, 126, 126, 126, 126, 126, 126, 126, 126, 126, 127,\n",
      "       127, 127, 127, 127, 127, 127, 127, 127, 127, 127, 127, 127, 127,\n",
      "       128, 128, 128, 128, 128, 128, 128, 128, 128, 128, 128, 128, 128,\n",
      "       128, 128, 128, 129, 129, 129, 129, 129, 129, 129, 129, 129, 129,\n",
      "       129, 129, 129, 129, 129, 129, 129, 130, 130, 130, 130, 130, 130,\n",
      "       130, 130, 130, 130, 130, 130, 130, 130, 130, 130, 130, 130, 130,\n",
      "       131, 131, 131, 131, 131, 131, 131, 131, 131, 131, 131, 131, 131,\n",
      "       131, 131, 131, 131, 131, 131, 132, 132, 132, 132, 132, 132, 132,\n",
      "       132, 132, 132, 132, 132, 132, 132, 132, 132, 132, 132, 132, 133,\n",
      "       133, 133, 133, 133, 133, 133, 133, 133, 133, 133, 133, 133, 133,\n",
      "       133, 133, 133, 133, 133, 133, 134, 134, 134, 134, 134, 134, 134,\n",
      "       134, 134, 134, 134, 134, 134, 134, 134, 134, 134, 134, 134, 134,\n",
      "       135, 135, 135, 135, 135, 135, 135, 135, 135, 135, 135, 135, 135,\n",
      "       135, 135, 135, 135, 135, 135, 135, 136, 136, 136, 136, 136, 136,\n",
      "       136, 136, 136, 136, 136, 136, 136, 136, 136, 136, 136, 136, 137,\n",
      "       137, 137, 137, 137, 137, 137, 137, 137, 137, 137, 137, 137, 137,\n",
      "       137, 137, 137, 137, 138, 138, 138, 138, 138, 138, 138, 138, 138,\n",
      "       138, 138, 138, 138, 138, 138, 139, 139, 139, 139, 139, 139, 139,\n",
      "       139, 139, 139, 139, 139, 139, 140, 140, 140, 140, 140, 140, 140,\n",
      "       140, 140]), array([122, 123, 124, 125, 126, 127, 128, 129, 130, 131, 132, 133, 121,\n",
      "       122, 123, 124, 125, 126, 127, 128, 129, 130, 131, 132, 133, 134,\n",
      "       120, 121, 122, 123, 124, 125, 126, 127, 128, 129, 130, 131, 132,\n",
      "       133, 134, 135, 119, 120, 121, 122, 123, 124, 125, 126, 127, 128,\n",
      "       129, 130, 131, 132, 133, 134, 135, 118, 119, 120, 121, 122, 123,\n",
      "       124, 125, 126, 127, 128, 129, 130, 131, 132, 133, 134, 135, 136,\n",
      "       118, 119, 120, 121, 122, 123, 124, 125, 126, 127, 128, 129, 130,\n",
      "       131, 132, 133, 134, 135, 136, 118, 119, 120, 121, 122, 123, 124,\n",
      "       125, 126, 127, 128, 129, 130, 131, 132, 133, 134, 135, 136, 118,\n",
      "       119, 120, 121, 122, 123, 124, 125, 126, 127, 128, 129, 130, 131,\n",
      "       132, 133, 134, 135, 136, 137, 118, 119, 120, 121, 122, 123, 124,\n",
      "       125, 126, 127, 128, 129, 130, 131, 132, 133, 134, 135, 136, 137,\n",
      "       118, 119, 120, 121, 122, 123, 124, 125, 126, 127, 128, 129, 130,\n",
      "       131, 132, 133, 134, 135, 136, 137, 119, 120, 121, 122, 123, 124,\n",
      "       125, 126, 127, 128, 129, 130, 131, 132, 133, 134, 135, 136, 119,\n",
      "       120, 121, 122, 123, 124, 125, 126, 127, 128, 129, 130, 131, 132,\n",
      "       133, 134, 135, 136, 120, 121, 122, 123, 124, 125, 126, 127, 128,\n",
      "       129, 130, 131, 132, 133, 134, 121, 122, 123, 124, 125, 126, 127,\n",
      "       128, 129, 130, 131, 132, 133, 123, 124, 125, 126, 127, 128, 129,\n",
      "       130, 131]))\n"
     ]
    },
    {
     "data": {
      "image/png": "[encoded data removed]",
      "text/plain": [
       "<Figure size 432x288 with 2 Axes>"
      ]
     },
     "metadata": {
      "needs_background": "light"
     },
     "output_type": "display_data"
    },
    {
     "name": "stdout",
     "output_type": "stream",
     "text": [
      "(array([118, 118, 118, 118, 118, 118, 118, 118, 119, 119, 119, 119, 119,\n",
      "       119, 119, 119, 119, 119, 119, 119, 119, 119, 120, 120, 120, 120,\n",
      "       120, 120, 120, 120, 120, 120, 120, 120, 120, 120, 120, 120, 121,\n",
      "       121, 121, 121, 121, 121, 121, 121, 121, 121, 121, 121, 121, 121,\n",
      "       121, 121, 121, 122, 122, 122, 122, 122, 122, 122, 122, 122, 122,\n",
      "       122, 122, 122, 122, 122, 122, 122, 122, 123, 123, 123, 123, 123,\n",
      "       123, 123, 123, 123, 123, 123, 123, 123, 123, 123, 123, 123, 123,\n",
      "       123, 124, 124, 124, 124, 124, 124, 124, 124, 124, 124, 124, 124,\n",
      "       124, 124, 124, 124, 124, 124, 124, 125, 125, 125, 125, 125, 125,\n",
      "       125, 125, 125, 125, 125, 125, 125, 125, 125, 125, 125, 125, 125,\n",
      "       125, 126, 126, 126, 126, 126, 126, 126, 126, 126, 126, 126, 126,\n",
      "       126, 126, 126, 126, 126, 126, 126, 126, 126, 127, 127, 127, 127,\n",
      "       127, 127, 127, 127, 127, 127, 127, 127, 127, 127, 127, 127, 127,\n",
      "       127, 127, 127, 128, 128, 128, 128, 128, 128, 128, 128, 128, 128,\n",
      "       128, 128, 128, 128, 128, 128, 128, 128, 128, 128, 129, 129, 129,\n",
      "       129, 129, 129, 129, 129, 129, 129, 129, 129, 129, 129, 129, 129,\n",
      "       129, 129, 129, 130, 130, 130, 130, 130, 130, 130, 130, 130, 130,\n",
      "       130, 130, 130, 130, 130, 130, 130, 131, 131, 131, 131, 131, 131,\n",
      "       131, 131, 131, 131, 131, 131, 131, 131, 131, 131, 132, 132, 132,\n",
      "       132, 132, 132, 132, 132, 132, 132, 132, 132, 132, 132, 133, 133,\n",
      "       133, 133, 133, 133, 133, 133, 133, 133, 134, 134, 134, 134]), array([124, 125, 126, 127, 128, 129, 130, 131, 119, 120, 121, 122, 123,\n",
      "       124, 125, 126, 127, 128, 129, 130, 131, 132, 118, 119, 120, 121,\n",
      "       122, 123, 124, 125, 126, 127, 128, 129, 130, 131, 132, 133, 117,\n",
      "       118, 119, 120, 121, 122, 123, 124, 125, 126, 127, 128, 129, 130,\n",
      "       131, 132, 133, 117, 118, 119, 120, 121, 122, 123, 124, 125, 126,\n",
      "       127, 128, 129, 130, 131, 132, 133, 134, 116, 117, 118, 119, 120,\n",
      "       121, 122, 123, 124, 125, 126, 127, 128, 129, 130, 131, 132, 133,\n",
      "       134, 116, 117, 118, 119, 120, 121, 122, 123, 124, 125, 126, 127,\n",
      "       128, 129, 130, 131, 132, 133, 134, 116, 117, 118, 119, 120, 121,\n",
      "       122, 123, 124, 125, 126, 127, 128, 129, 130, 131, 132, 133, 134,\n",
      "       135, 115, 116, 117, 118, 119, 120, 121, 122, 123, 124, 125, 126,\n",
      "       127, 128, 129, 130, 131, 132, 133, 134, 135, 115, 116, 117, 118,\n",
      "       119, 120, 121, 122, 123, 124, 125, 126, 127, 128, 129, 130, 131,\n",
      "       132, 133, 134, 115, 116, 117, 118, 119, 120, 121, 122, 123, 124,\n",
      "       125, 126, 127, 128, 129, 130, 131, 132, 133, 134, 115, 116, 117,\n",
      "       118, 119, 120, 121, 122, 123, 124, 125, 126, 127, 128, 129, 130,\n",
      "       131, 132, 133, 116, 117, 118, 119, 120, 121, 122, 123, 124, 125,\n",
      "       126, 127, 128, 129, 130, 131, 132, 116, 117, 118, 119, 120, 121,\n",
      "       122, 123, 124, 125, 126, 127, 128, 129, 130, 131, 117, 118, 119,\n",
      "       120, 121, 122, 123, 124, 125, 126, 127, 128, 129, 130, 119, 120,\n",
      "       121, 122, 123, 124, 125, 126, 127, 128, 121, 122, 123, 124]))\n",
      "(array([117, 117, 117, 117, 117, 117, 117, 117, 118, 118, 118, 118, 118,\n",
      "       118, 118, 118, 118, 118, 118, 118, 118, 118, 119, 119, 119, 119,\n",
      "       119, 119, 119, 119, 119, 119, 119, 119, 119, 119, 119, 119, 120,\n",
      "       120, 120, 120, 120, 120, 120, 120, 120, 120, 120, 120, 120, 120,\n",
      "       120, 120, 120, 120, 121, 121, 121, 121, 121, 121, 121, 121, 121,\n",
      "       121, 121, 121, 121, 121, 121, 121, 121, 121, 122, 122, 122, 122,\n",
      "       122, 122, 122, 122, 122, 122, 122, 122, 122, 122, 122, 122, 122,\n",
      "       122, 122, 122, 123, 123, 123, 123, 123, 123, 123, 123, 123, 123,\n",
      "       123, 123, 123, 123, 123, 123, 123, 123, 123, 123, 124, 124, 124,\n",
      "       124, 124, 124, 124, 124, 124, 124, 124, 124, 124, 124, 124, 124,\n",
      "       124, 124, 124, 124, 125, 125, 125, 125, 125, 125, 125, 125, 125,\n",
      "       125, 125, 125, 125, 125, 125, 125, 125, 125, 125, 125, 125, 125,\n",
      "       126, 126, 126, 126, 126, 126, 126, 126, 126, 126, 126, 126, 126,\n",
      "       126, 126, 126, 126, 126, 126, 126, 126, 126, 127, 127, 127, 127,\n",
      "       127, 127, 127, 127, 127, 127, 127, 127, 127, 127, 127, 127, 127,\n",
      "       127, 127, 127, 127, 128, 128, 128, 128, 128, 128, 128, 128, 128,\n",
      "       128, 128, 128, 128, 128, 128, 128, 128, 128, 128, 128, 128, 129,\n",
      "       129, 129, 129, 129, 129, 129, 129, 129, 129, 129, 129, 129, 129,\n",
      "       129, 129, 129, 129, 129, 130, 130, 130, 130, 130, 130, 130, 130,\n",
      "       130, 130, 130, 130, 130, 130, 130, 130, 130, 131, 131, 131, 131,\n",
      "       131, 131, 131, 131, 131, 131, 131, 131, 131, 131, 131, 131, 132,\n",
      "       132, 132, 132, 132, 132, 132, 132, 132, 132, 132, 132, 132, 132,\n",
      "       133, 133, 133, 133, 133, 133, 133, 133, 133, 133, 134, 134, 134,\n",
      "       134]), array([123, 124, 125, 126, 127, 128, 129, 130, 118, 119, 120, 121, 122,\n",
      "       123, 124, 125, 126, 127, 128, 129, 130, 131, 117, 118, 119, 120,\n",
      "       121, 122, 123, 124, 125, 126, 127, 128, 129, 130, 131, 132, 116,\n",
      "       117, 118, 119, 120, 121, 122, 123, 124, 125, 126, 127, 128, 129,\n",
      "       130, 131, 132, 133, 116, 117, 118, 119, 120, 121, 122, 123, 124,\n",
      "       125, 126, 127, 128, 129, 130, 131, 132, 133, 115, 116, 117, 118,\n",
      "       119, 120, 121, 122, 123, 124, 125, 126, 127, 128, 129, 130, 131,\n",
      "       132, 133, 134, 115, 116, 117, 118, 119, 120, 121, 122, 123, 124,\n",
      "       125, 126, 127, 128, 129, 130, 131, 132, 133, 134, 115, 116, 117,\n",
      "       118, 119, 120, 121, 122, 123, 124, 125, 126, 127, 128, 129, 130,\n",
      "       131, 132, 133, 134, 114, 115, 116, 117, 118, 119, 120, 121, 122,\n",
      "       123, 124, 125, 126, 127, 128, 129, 130, 131, 132, 133, 134, 135,\n",
      "       114, 115, 116, 117, 118, 119, 120, 121, 122, 123, 124, 125, 126,\n",
      "       127, 128, 129, 130, 131, 132, 133, 134, 135, 114, 115, 116, 117,\n",
      "       118, 119, 120, 121, 122, 123, 124, 125, 126, 127, 128, 129, 130,\n",
      "       131, 132, 133, 134, 114, 115, 116, 117, 118, 119, 120, 121, 122,\n",
      "       123, 124, 125, 126, 127, 128, 129, 130, 131, 132, 133, 134, 115,\n",
      "       116, 117, 118, 119, 120, 121, 122, 123, 124, 125, 126, 127, 128,\n",
      "       129, 130, 131, 132, 133, 116, 117, 118, 119, 120, 121, 122, 123,\n",
      "       124, 125, 126, 127, 128, 129, 130, 131, 132, 116, 117, 118, 119,\n",
      "       120, 121, 122, 123, 124, 125, 126, 127, 128, 129, 130, 131, 117,\n",
      "       118, 119, 120, 121, 122, 123, 124, 125, 126, 127, 128, 129, 130,\n",
      "       119, 120, 121, 122, 123, 124, 125, 126, 127, 128, 121, 122, 123,\n",
      "       124]))\n"
     ]
    },
    {
     "data": {
      "image/png": "[encoded data removed]",
      "text/plain": [
       "<Figure size 432x288 with 2 Axes>"
      ]
     },
     "metadata": {
      "needs_background": "light"
     },
     "output_type": "display_data"
    },
    {
     "name": "stdout",
     "output_type": "stream",
     "text": [
      "(array([118, 118, 118, 119, 119, 119, 119, 119, 119, 119, 119, 119, 120,\n",
      "       120, 120, 120, 120, 120, 120, 120, 120, 120, 120, 121, 121, 121,\n",
      "       121, 121, 121, 121, 121, 121, 121, 121, 122, 122, 122, 122, 122,\n",
      "       122, 122, 122, 122, 122, 122, 122, 123, 123, 123, 123, 123, 123,\n",
      "       123, 123, 123, 123, 123, 123, 123, 124, 124, 124, 124, 124, 124,\n",
      "       124, 124, 124, 124, 124, 124, 124, 125, 125, 125, 125, 125, 125,\n",
      "       125, 125, 125, 125, 125, 125, 126, 126, 126, 126, 126, 126, 126,\n",
      "       126, 126, 126, 127, 127, 127, 127, 127, 127, 127, 127, 128, 128,\n",
      "       128, 128, 128]), array([122, 123, 124, 118, 119, 120, 121, 122, 123, 124, 125, 126, 117,\n",
      "       118, 119, 120, 121, 122, 123, 124, 125, 126, 127, 116, 117, 118,\n",
      "       119, 120, 121, 122, 123, 124, 125, 126, 115, 116, 117, 118, 119,\n",
      "       120, 121, 122, 123, 124, 125, 126, 114, 115, 116, 117, 118, 119,\n",
      "       120, 121, 122, 123, 124, 125, 126, 114, 115, 116, 117, 118, 119,\n",
      "       120, 121, 122, 123, 124, 125, 126, 115, 116, 117, 118, 119, 120,\n",
      "       121, 122, 123, 124, 125, 126, 116, 117, 118, 119, 120, 121, 122,\n",
      "       123, 124, 125, 117, 118, 119, 120, 121, 122, 123, 124, 118, 119,\n",
      "       120, 121, 122]))\n",
      "(array([117, 117, 117, 118, 118, 118, 118, 118, 118, 118, 118, 118, 118,\n",
      "       119, 119, 119, 119, 119, 119, 119, 119, 119, 119, 119, 120, 120,\n",
      "       120, 120, 120, 120, 120, 120, 120, 120, 120, 120, 120, 121, 121,\n",
      "       121, 121, 121, 121, 121, 121, 121, 121, 121, 121, 121, 122, 122,\n",
      "       122, 122, 122, 122, 122, 122, 122, 122, 122, 122, 122, 122, 123,\n",
      "       123, 123, 123, 123, 123, 123, 123, 123, 123, 123, 123, 123, 123,\n",
      "       124, 124, 124, 124, 124, 124, 124, 124, 124, 124, 124, 124, 124,\n",
      "       124, 125, 125, 125, 125, 125, 125, 125, 125, 125, 125, 125, 125,\n",
      "       126, 126, 126, 126, 126, 126, 126, 126, 126, 126, 127, 127, 127,\n",
      "       127, 127, 127, 127, 127, 128, 128, 128, 128, 128]), array([121, 122, 123, 117, 118, 119, 120, 121, 122, 123, 124, 125, 126,\n",
      "       116, 117, 118, 119, 120, 121, 122, 123, 124, 125, 126, 115, 116,\n",
      "       117, 118, 119, 120, 121, 122, 123, 124, 125, 126, 127, 114, 115,\n",
      "       116, 117, 118, 119, 120, 121, 122, 123, 124, 125, 126, 113, 114,\n",
      "       115, 116, 117, 118, 119, 120, 121, 122, 123, 124, 125, 126, 113,\n",
      "       114, 115, 116, 117, 118, 119, 120, 121, 122, 123, 124, 125, 126,\n",
      "       113, 114, 115, 116, 117, 118, 119, 120, 121, 122, 123, 124, 125,\n",
      "       126, 115, 116, 117, 118, 119, 120, 121, 122, 123, 124, 125, 126,\n",
      "       116, 117, 118, 119, 120, 121, 122, 123, 124, 125, 117, 118, 119,\n",
      "       120, 121, 122, 123, 124, 118, 119, 120, 121, 122]))\n"
     ]
    },
    {
     "data": {
      "image/png": "[encoded data removed]",
      "text/plain": [
       "<Figure size 432x288 with 2 Axes>"
      ]
     },
     "metadata": {
      "needs_background": "light"
     },
     "output_type": "display_data"
    },
    {
     "ename": "KeyboardInterrupt",
     "evalue": "",
     "output_type": "error",
     "traceback": [
      "\u001b[0;31m---------------------------------------------------------------------------\u001b[0m",
      "\u001b[0;31mKeyboardInterrupt\u001b[0m                         Traceback (most recent call last)",
      "\u001b[0;32m<ipython-input-10-4a6d7c6d08e2>\u001b[0m in \u001b[0;36m<module>\u001b[0;34m\u001b[0m\n\u001b[1;32m     11\u001b[0m         \u001b[0mprint\u001b[0m\u001b[0;34m(\u001b[0m\u001b[0mnp\u001b[0m\u001b[0;34m.\u001b[0m\u001b[0mnonzero\u001b[0m\u001b[0;34m(\u001b[0m\u001b[0monehot_gt\u001b[0m\u001b[0;34m[\u001b[0m\u001b[0;36m1\u001b[0m\u001b[0;34m]\u001b[0m\u001b[0;34m*\u001b[0m\u001b[0;34m(\u001b[0m\u001b[0mprior\u001b[0m\u001b[0;34m==\u001b[0m\u001b[0;36m1\u001b[0m\u001b[0;34m)\u001b[0m\u001b[0;34m)\u001b[0m\u001b[0;34m)\u001b[0m\u001b[0;34m\u001b[0m\u001b[0;34m\u001b[0m\u001b[0m\n\u001b[1;32m     12\u001b[0m         \u001b[0mprint\u001b[0m\u001b[0;34m(\u001b[0m\u001b[0mnp\u001b[0m\u001b[0;34m.\u001b[0m\u001b[0mnonzero\u001b[0m\u001b[0;34m(\u001b[0m\u001b[0mprior\u001b[0m\u001b[0;34m==\u001b[0m\u001b[0;36m1\u001b[0m\u001b[0;34m)\u001b[0m\u001b[0;34m)\u001b[0m\u001b[0;34m\u001b[0m\u001b[0;34m\u001b[0m\u001b[0m\n\u001b[0;32m---> 13\u001b[0;31m         \u001b[0mplt\u001b[0m\u001b[0;34m.\u001b[0m\u001b[0mpause\u001b[0m\u001b[0;34m(\u001b[0m\u001b[0;36m2\u001b[0m\u001b[0;34m)\u001b[0m\u001b[0;34m\u001b[0m\u001b[0;34m\u001b[0m\u001b[0m\n\u001b[0m",
      "\u001b[0;32m~/anaconda3/lib/python3.6/site-packages/matplotlib/pyplot.py\u001b[0m in \u001b[0;36mpause\u001b[0;34m(interval)\u001b[0m\n\u001b[1;32m    293\u001b[0m             \u001b[0mcanvas\u001b[0m\u001b[0;34m.\u001b[0m\u001b[0mdraw_idle\u001b[0m\u001b[0;34m(\u001b[0m\u001b[0;34m)\u001b[0m\u001b[0;34m\u001b[0m\u001b[0;34m\u001b[0m\u001b[0m\n\u001b[1;32m    294\u001b[0m         \u001b[0mshow\u001b[0m\u001b[0;34m(\u001b[0m\u001b[0mblock\u001b[0m\u001b[0;34m=\u001b[0m\u001b[0;32mFalse\u001b[0m\u001b[0;34m)\u001b[0m\u001b[0;34m\u001b[0m\u001b[0;34m\u001b[0m\u001b[0m\n\u001b[0;32m--> 295\u001b[0;31m         \u001b[0mcanvas\u001b[0m\u001b[0;34m.\u001b[0m\u001b[0mstart_event_loop\u001b[0m\u001b[0;34m(\u001b[0m\u001b[0minterval\u001b[0m\u001b[0;34m)\u001b[0m\u001b[0;34m\u001b[0m\u001b[0;34m\u001b[0m\u001b[0m\n\u001b[0m\u001b[1;32m    296\u001b[0m     \u001b[0;32melse\u001b[0m\u001b[0;34m:\u001b[0m\u001b[0;34m\u001b[0m\u001b[0;34m\u001b[0m\u001b[0m\n\u001b[1;32m    297\u001b[0m         \u001b[0mtime\u001b[0m\u001b[0;34m.\u001b[0m\u001b[0msleep\u001b[0m\u001b[0;34m(\u001b[0m\u001b[0minterval\u001b[0m\u001b[0;34m)\u001b[0m\u001b[0;34m\u001b[0m\u001b[0;34m\u001b[0m\u001b[0m\n",
      "\u001b[0;32m~/anaconda3/lib/python3.6/site-packages/matplotlib/backend_bases.py\u001b[0m in \u001b[0;36mstart_event_loop\u001b[0;34m(self, timeout)\u001b[0m\n\u001b[1;32m   2250\u001b[0m         \u001b[0;32mwhile\u001b[0m \u001b[0mself\u001b[0m\u001b[0;34m.\u001b[0m\u001b[0m_looping\u001b[0m \u001b[0;32mand\u001b[0m \u001b[0mcounter\u001b[0m \u001b[0;34m*\u001b[0m \u001b[0mtimestep\u001b[0m \u001b[0;34m<\u001b[0m \u001b[0mtimeout\u001b[0m\u001b[0;34m:\u001b[0m\u001b[0;34m\u001b[0m\u001b[0;34m\u001b[0m\u001b[0m\n\u001b[1;32m   2251\u001b[0m             \u001b[0mself\u001b[0m\u001b[0;34m.\u001b[0m\u001b[0mflush_events\u001b[0m\u001b[0;34m(\u001b[0m\u001b[0;34m)\u001b[0m\u001b[0;34m\u001b[0m\u001b[0;34m\u001b[0m\u001b[0m\n\u001b[0;32m-> 2252\u001b[0;31m             \u001b[0mtime\u001b[0m\u001b[0;34m.\u001b[0m\u001b[0msleep\u001b[0m\u001b[0;34m(\u001b[0m\u001b[0mtimestep\u001b[0m\u001b[0;34m)\u001b[0m\u001b[0;34m\u001b[0m\u001b[0;34m\u001b[0m\u001b[0m\n\u001b[0m\u001b[1;32m   2253\u001b[0m             \u001b[0mcounter\u001b[0m \u001b[0;34m+=\u001b[0m \u001b[0;36m1\u001b[0m\u001b[0;34m\u001b[0m\u001b[0;34m\u001b[0m\u001b[0m\n\u001b[1;32m   2254\u001b[0m \u001b[0;34m\u001b[0m\u001b[0m\n",
      "\u001b[0;31mKeyboardInterrupt\u001b[0m: "
     ]
    }
   ],
   "source": [
    "for img_path, gt_path, prior_path in zip (train_list, gt_list, prior_list):\n",
    "    img, gt ,prior = load_pairs(img_path,gt_path, prior_path)\n",
    "    onehot_gt = class2onehot(gt)\n",
    "\n",
    "    if(((onehot_gt[1] * (prior==1)!=(prior==1).astype(int))).sum())!=0:\n",
    "        plt.figure()\n",
    "        plt.subplot(121)\n",
    "        plt.imshow(onehot_gt[1]*(prior==1))\n",
    "        plt.subplot(122)\n",
    "        plt.imshow(prior==1)\n",
    "        print(np.nonzero(onehot_gt[1]*(prior==1)))\n",
    "        print(np.nonzero(prior==1))\n",
    "        plt.pause(2)\n"
   ]
  },
  {
   "cell_type": "code",
   "execution_count": null,
   "metadata": {},
   "outputs": [],
   "source": []
  }
 ],
 "metadata": {
  "kernelspec": {
   "display_name": "Python 3",
   "language": "python",
   "name": "python3"
  },
  "language_info": {
   "codemirror_mode": {
    "name": "ipython",
    "version": 3
   },
   "file_extension": ".py",
   "mimetype": "text/x-python",
   "name": "python",
   "nbconvert_exporter": "python",
   "pygments_lexer": "ipython3",
   "version": "3.6.8"
  }
 },
 "nbformat": 4,
 "nbformat_minor": 2
}
